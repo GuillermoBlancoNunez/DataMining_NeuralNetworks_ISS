{
  "nbformat": 4,
  "nbformat_minor": 0,
  "metadata": {
    "colab": {
      "provenance": []
    },
    "kernelspec": {
      "name": "python3",
      "display_name": "Python 3"
    },
    "language_info": {
      "name": "python"
    }
  },
  "cells": [
    {
      "cell_type": "markdown",
      "source": [
        "Guillermo Blanco Núñez\n",
        "<br>Data Mining and Neural Networks\n",
        "<br>ISS\n",
        "<br>14/07/2025\n"
      ],
      "metadata": {
        "id": "MbLQENV2uz4N"
      }
    },
    {
      "cell_type": "markdown",
      "source": [
        "Perform the following tasks:\n",
        "\n",
        "*   Load the dataset and display the first 5 rows.\n",
        "\n",
        "*   Check the number of rows and columns, and describe the data types.\n",
        "\n",
        "*   Calculate the number of missing values per column.\n",
        "\n",
        "*   Show how many passengers survived and how many did not.\n",
        "\n",
        "*   Find the average age of passengers.\n",
        "\n",
        "*   Create one simple plot (bar or histogram) using seaborn or matplotlib.\n"
      ],
      "metadata": {
        "id": "02Da2SBCn7I8"
      }
    },
    {
      "cell_type": "markdown",
      "source": [
        "Task 1: Load the dataset and display the first 5 rows."
      ],
      "metadata": {
        "id": "tZF3gHcPoZIo"
      }
    },
    {
      "cell_type": "code",
      "source": [
        "import seaborn as sns\n",
        "vdf = sns.load_dataset('titanic')\n",
        "print(vdf[:5])"
      ],
      "metadata": {
        "colab": {
          "base_uri": "https://localhost:8080/"
        },
        "id": "UOqTdR68of9p",
        "outputId": "1d3190de-7a75-4ff4-bedf-af176e90b5a3"
      },
      "execution_count": null,
      "outputs": [
        {
          "output_type": "stream",
          "name": "stdout",
          "text": [
            "   survived  pclass     sex   age  sibsp  parch     fare embarked  class  \\\n",
            "0         0       3    male  22.0      1      0   7.2500        S  Third   \n",
            "1         1       1  female  38.0      1      0  71.2833        C  First   \n",
            "2         1       3  female  26.0      0      0   7.9250        S  Third   \n",
            "3         1       1  female  35.0      1      0  53.1000        S  First   \n",
            "4         0       3    male  35.0      0      0   8.0500        S  Third   \n",
            "\n",
            "     who  adult_male deck  embark_town alive  alone  \n",
            "0    man        True  NaN  Southampton    no  False  \n",
            "1  woman       False    C    Cherbourg   yes  False  \n",
            "2  woman       False  NaN  Southampton   yes   True  \n",
            "3  woman       False    C  Southampton   yes  False  \n",
            "4    man        True  NaN  Southampton    no   True  \n"
          ]
        }
      ]
    },
    {
      "cell_type": "markdown",
      "source": [
        "Task 2: Check the number of rows and columns, and describe the data types."
      ],
      "metadata": {
        "id": "c0zQmG2fpr_V"
      }
    },
    {
      "cell_type": "code",
      "source": [
        "\n",
        "print(f\"Number of rows: {vdf.shape[0]}\")\n",
        "print(f\"Number of columns: {vdf.shape[1]}\")"
      ],
      "metadata": {
        "colab": {
          "base_uri": "https://localhost:8080/"
        },
        "id": "RCBmr53opzJq",
        "outputId": "bb6573c8-b493-4eb9-b80a-d89cf97706ea"
      },
      "execution_count": null,
      "outputs": [
        {
          "output_type": "stream",
          "name": "stdout",
          "text": [
            "Number of rows: 891\n",
            "Number of columns: 15\n"
          ]
        }
      ]
    },
    {
      "cell_type": "markdown",
      "source": [
        "Task 3: Calculate the number of missing values per column."
      ],
      "metadata": {
        "id": "9GBWsd6lqiRx"
      }
    },
    {
      "cell_type": "code",
      "source": [
        "for i in vdf.columns:\n",
        "  print(f\"{i} : {vdf[i].isnull().sum()}\")"
      ],
      "metadata": {
        "colab": {
          "base_uri": "https://localhost:8080/"
        },
        "id": "tFsp7UY_qspM",
        "outputId": "ddc6e314-1699-4ffb-9cf1-5f87d7f6c296"
      },
      "execution_count": null,
      "outputs": [
        {
          "output_type": "stream",
          "name": "stdout",
          "text": [
            "survived : 0\n",
            "pclass : 0\n",
            "sex : 0\n",
            "age : 177\n",
            "sibsp : 0\n",
            "parch : 0\n",
            "fare : 0\n",
            "embarked : 2\n",
            "class : 0\n",
            "who : 0\n",
            "adult_male : 0\n",
            "deck : 688\n",
            "embark_town : 2\n",
            "alive : 0\n",
            "alone : 0\n"
          ]
        }
      ]
    },
    {
      "cell_type": "markdown",
      "source": [
        "Task 4: Show how many passengers survived and how many did not."
      ],
      "metadata": {
        "id": "IMCr6_RtqnXb"
      }
    },
    {
      "cell_type": "code",
      "source": [
        "print(f\"Survived: {vdf.survived.value_counts()[1]}\")\n",
        "print(f\"Didn't survive: {vdf.survived.value_counts()[0]}\")"
      ],
      "metadata": {
        "colab": {
          "base_uri": "https://localhost:8080/"
        },
        "id": "UlUMXcLbquka",
        "outputId": "7e5bfa1f-b18e-4472-ce13-94b602c69854"
      },
      "execution_count": null,
      "outputs": [
        {
          "output_type": "stream",
          "name": "stdout",
          "text": [
            "Survived: 342\n",
            "Didn't survive: 549\n"
          ]
        }
      ]
    },
    {
      "cell_type": "markdown",
      "source": [
        "Task 5: Find the average age of passengers."
      ],
      "metadata": {
        "id": "Mw21Lqudqu4X"
      }
    },
    {
      "cell_type": "code",
      "source": [
        "import numpy as np\n",
        "print(np.nanmean(vdf.age))"
      ],
      "metadata": {
        "colab": {
          "base_uri": "https://localhost:8080/"
        },
        "id": "tJADajCfqz2F",
        "outputId": "b520bc5e-06e4-4c70-b739-ae372baad4bc"
      },
      "execution_count": null,
      "outputs": [
        {
          "output_type": "stream",
          "name": "stdout",
          "text": [
            "29.69911764705882\n"
          ]
        }
      ]
    },
    {
      "cell_type": "markdown",
      "source": [
        "Task 6: Create one simple plot (bar or histogram) using seaborn or matplotlib."
      ],
      "metadata": {
        "id": "MiP8CRB0q0N6"
      }
    },
    {
      "cell_type": "code",
      "source": [
        "import matplotlib.pyplot as plt\n",
        "\n",
        "\n",
        "plt.hist(vdf.age)\n",
        "plt.title('Age Distribution')\n",
        "plt.xlabel('Age')\n",
        "plt.ylabel('Frequency')\n",
        "plt.show()"
      ],
      "metadata": {
        "colab": {
          "base_uri": "https://localhost:8080/",
          "height": 472
        },
        "id": "umNK1RiSq4JW",
        "outputId": "c95b29e0-908e-4c84-80bc-c3a6c8defc40"
      },
      "execution_count": null,
      "outputs": [
        {
          "output_type": "display_data",
          "data": {
            "text/plain": [
              "<Figure size 640x480 with 1 Axes>"
            ],
            "image/png": "[encoded data removed]"
          },
          "metadata": {}
        }
      ]
    }
  ]
}