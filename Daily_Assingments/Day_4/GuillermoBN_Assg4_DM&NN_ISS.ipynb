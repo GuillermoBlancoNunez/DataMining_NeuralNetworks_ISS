{
  "cells": [
    {
      "cell_type": "markdown",
      "id": "9665ebea",
      "metadata": {
        "id": "9665ebea"
      },
      "source": [
        "# Imputation Methods\n",
        "by Wilmer Garzón, last updated: 30-June-2025\n",
        "\n",
        "This notebook demonstrates various imputation methods for handling missing data. We will use a sample dataset with missing values and apply different techniques to fill in the gaps. Finally, we will compare the methods using Mean Squared Error (MSE)."
      ]
    },
    {
      "cell_type": "code",
      "execution_count": null,
      "id": "b8341d09-b666-487b-a8fd-eabecd6b6fcd",
      "metadata": {
        "id": "b8341d09-b666-487b-a8fd-eabecd6b6fcd"
      },
      "outputs": [],
      "source": [
        "import pandas as pd\n",
        "import numpy as np\n",
        "#Imports KNNImputer to fill missing values using nearest neighbors.\n",
        "from sklearn.impute import KNNImputer\n",
        "#Imports LinearRegression to build linear models\n",
        "from sklearn.linear_model import LinearRegression\n",
        "#Imports mean_squared_error to evaluate prediction accuracy.\n",
        "from sklearn.metrics import mean_squared_error\n",
        "#Imports train_test_split to divide data into training and test sets.\n",
        "from sklearn.model_selection import train_test_split"
      ]
    },
    {
      "cell_type": "markdown",
      "id": "c24bd15a-eb49-4251-835c-020d637273f6",
      "metadata": {
        "id": "c24bd15a-eb49-4251-835c-020d637273f6"
      },
      "source": [
        "## Dataset Description:\n",
        "- **Number of samples**: 500\n",
        "- **Number of features**: 6 numerical features\n",
        "- **Variables**: Feature_1, Feature_2, ..., Feature_6\n",
        "- **Target variable**: Target\n",
        "- **Missing values**: None, the dataset is fully complete"
      ]
    },
    {
      "cell_type": "code",
      "execution_count": null,
      "id": "75de11a0",
      "metadata": {
        "id": "75de11a0",
        "outputId": "86a7714f-fc52-4139-fce0-879d98a348c1"
      },
      "outputs": [
        {
          "data": {
            "text/html": [
              "<div>\n",
              "<style scoped>\n",
              "    .dataframe tbody tr th:only-of-type {\n",
              "        vertical-align: middle;\n",
              "    }\n",
              "\n",
              "    .dataframe tbody tr th {\n",
              "        vertical-align: top;\n",
              "    }\n",
              "\n",
              "    .dataframe thead th {\n",
              "        text-align: right;\n",
              "    }\n",
              "</style>\n",
              "<table border=\"1\" class=\"dataframe\">\n",
              "  <thead>\n",
              "    <tr style=\"text-align: right;\">\n",
              "      <th></th>\n",
              "      <th>Feature_1</th>\n",
              "      <th>Feature_2</th>\n",
              "      <th>Feature_3</th>\n",
              "      <th>Feature_4</th>\n",
              "      <th>Feature_5</th>\n",
              "      <th>Feature_6</th>\n",
              "      <th>Target</th>\n",
              "    </tr>\n",
              "  </thead>\n",
              "  <tbody>\n",
              "    <tr>\n",
              "      <th>0</th>\n",
              "      <td>57.450712</td>\n",
              "      <td>47.926035</td>\n",
              "      <td>59.715328</td>\n",
              "      <td>72.845448</td>\n",
              "      <td>46.487699</td>\n",
              "      <td>46.487946</td>\n",
              "      <td>377.845002</td>\n",
              "    </tr>\n",
              "    <tr>\n",
              "      <th>1</th>\n",
              "      <td>73.688192</td>\n",
              "      <td>61.511521</td>\n",
              "      <td>42.957884</td>\n",
              "      <td>58.138401</td>\n",
              "      <td>43.048735</td>\n",
              "      <td>43.014054</td>\n",
              "      <td>401.933827</td>\n",
              "    </tr>\n",
              "    <tr>\n",
              "      <th>2</th>\n",
              "      <td>53.629434</td>\n",
              "      <td>21.300796</td>\n",
              "      <td>24.126233</td>\n",
              "      <td>41.565687</td>\n",
              "      <td>34.807533</td>\n",
              "      <td>54.713710</td>\n",
              "      <td>266.092906</td>\n",
              "    </tr>\n",
              "    <tr>\n",
              "      <th>3</th>\n",
              "      <td>36.379639</td>\n",
              "      <td>28.815444</td>\n",
              "      <td>71.984732</td>\n",
              "      <td>46.613355</td>\n",
              "      <td>51.012923</td>\n",
              "      <td>28.628777</td>\n",
              "      <td>272.331966</td>\n",
              "    </tr>\n",
              "    <tr>\n",
              "      <th>4</th>\n",
              "      <td>41.834259</td>\n",
              "      <td>51.663839</td>\n",
              "      <td>32.735096</td>\n",
              "      <td>55.635470</td>\n",
              "      <td>40.990420</td>\n",
              "      <td>45.624594</td>\n",
              "      <td>320.151692</td>\n",
              "    </tr>\n",
              "  </tbody>\n",
              "</table>\n",
              "</div>"
            ],
            "text/plain": [
              "   Feature_1  Feature_2  Feature_3  Feature_4  Feature_5  Feature_6  \\\n",
              "0  57.450712  47.926035  59.715328  72.845448  46.487699  46.487946   \n",
              "1  73.688192  61.511521  42.957884  58.138401  43.048735  43.014054   \n",
              "2  53.629434  21.300796  24.126233  41.565687  34.807533  54.713710   \n",
              "3  36.379639  28.815444  71.984732  46.613355  51.012923  28.628777   \n",
              "4  41.834259  51.663839  32.735096  55.635470  40.990420  45.624594   \n",
              "\n",
              "       Target  \n",
              "0  377.845002  \n",
              "1  401.933827  \n",
              "2  266.092906  \n",
              "3  272.331966  \n",
              "4  320.151692  "
            ]
          },
          "execution_count": 2,
          "metadata": {},
          "output_type": "execute_result"
        }
      ],
      "source": [
        "# Load the dataset\n",
        "data = pd.read_csv('complete_dataset.csv')\n",
        "data.head()"
      ]
    },
    {
      "cell_type": "code",
      "execution_count": null,
      "id": "4a3be8dd",
      "metadata": {
        "id": "4a3be8dd",
        "outputId": "7d00017d-647f-4e03-d86f-64ed3638a03a"
      },
      "outputs": [
        {
          "data": {
            "text/plain": [
              "Feature_1    0\n",
              "Feature_2    0\n",
              "Feature_3    0\n",
              "Feature_4    0\n",
              "Feature_5    0\n",
              "Feature_6    0\n",
              "Target       0\n",
              "dtype: int64"
            ]
          },
          "execution_count": 3,
          "metadata": {},
          "output_type": "execute_result"
        }
      ],
      "source": [
        "# Check for missing values\n",
        "data.isnull().sum()"
      ]
    },
    {
      "cell_type": "markdown",
      "id": "36bfad27-3d51-4289-868b-87154c15a3fc",
      "metadata": {
        "id": "36bfad27-3d51-4289-868b-87154c15a3fc"
      },
      "source": [
        "## Exercises:\n",
        "- Please complete the following tasks step by step.\n",
        "- Each numbered item corresponds to a specific imputation technique or evaluation method that you must implement and analyze."
      ]
    },
    {
      "cell_type": "markdown",
      "source": [
        "**STEP 0: INTRODUCE 10% OF MISSING VALUES**"
      ],
      "metadata": {
        "id": "-kZ4veKEf6yG"
      },
      "id": "-kZ4veKEf6yG"
    },
    {
      "cell_type": "markdown",
      "id": "999978fe",
      "metadata": {
        "id": "999978fe"
      },
      "source": [
        "### Imputation with Mean\n",
        "*Impute missing values by replacing them with the mean of each feature*"
      ]
    },
    {
      "cell_type": "code",
      "execution_count": null,
      "id": "96969514",
      "metadata": {
        "id": "96969514"
      },
      "outputs": [],
      "source": [
        "#YOUR CODE HERE"
      ]
    },
    {
      "cell_type": "markdown",
      "id": "74f02d0f",
      "metadata": {
        "id": "74f02d0f"
      },
      "source": [
        "### Imputation with Median\n",
        "*Impute missing values using the median of each feature to reduce the impact of outliers*"
      ]
    },
    {
      "cell_type": "code",
      "execution_count": null,
      "id": "8d4cd9b3",
      "metadata": {
        "id": "8d4cd9b3"
      },
      "outputs": [],
      "source": [
        "#YOUR CODE HERE"
      ]
    },
    {
      "cell_type": "markdown",
      "id": "42bf9461",
      "metadata": {
        "id": "42bf9461"
      },
      "source": [
        "### Imputation with KNN\n",
        "*Use the K-Nearest Neighbors (KNN) algorithm to impute missing values based on similar observations*"
      ]
    },
    {
      "cell_type": "code",
      "execution_count": null,
      "id": "4111f4ee",
      "metadata": {
        "id": "4111f4ee"
      },
      "outputs": [],
      "source": [
        "#YOUR CODE HERE"
      ]
    },
    {
      "cell_type": "markdown",
      "id": "1c8c514c",
      "metadata": {
        "id": "1c8c514c"
      },
      "source": [
        "### Imputation with Linear Regression\n",
        "*Train a linear regression model on the available data and use it to predict and fill in missing values*"
      ]
    },
    {
      "cell_type": "code",
      "execution_count": null,
      "id": "e4f2b677",
      "metadata": {
        "id": "e4f2b677"
      },
      "outputs": [],
      "source": [
        "# We'll predict Feature3 using Feature1 and Feature2\n",
        "#YOUR CODE HERE"
      ]
    },
    {
      "cell_type": "markdown",
      "id": "29e439a7-eba1-4b95-9e67-69a5d952b473",
      "metadata": {
        "id": "29e439a7-eba1-4b95-9e67-69a5d952b473"
      },
      "source": [
        "### Mean Squared Error (MSE)\n",
        "- The MSE is a common metric used to evaluate the accuracy of a model or method by measuring the average of the squares of the errors.\n",
        "- The average squared difference between the actual (true) values and the predicted or imputed values.\n",
        "\n",
        "![MSE](https://miro.medium.com/v2/resize:fit:720/format:webp/0*ox49JmZ2YkKrqG9N.jpg)"
      ]
    },
    {
      "cell_type": "markdown",
      "id": "25a1379e-0ee0-44db-9a14-5e16e367558b",
      "metadata": {
        "id": "25a1379e-0ee0-44db-9a14-5e16e367558b"
      },
      "source": [
        "### Compare Imputation Methods using MSE\n",
        "*Evaluate and compare imputation methods by calculating the Mean Squared Error (MSE) between imputed and true values*"
      ]
    }
  ],
  "metadata": {
    "kernelspec": {
      "display_name": "Python 3 (ipykernel)",
      "language": "python",
      "name": "python3"
    },
    "language_info": {
      "codemirror_mode": {
        "name": "ipython",
        "version": 3
      },
      "file_extension": ".py",
      "mimetype": "text/x-python",
      "name": "python",
      "nbconvert_exporter": "python",
      "pygments_lexer": "ipython3",
      "version": "3.12.3"
    },
    "colab": {
      "provenance": []
    }
  },
  "nbformat": 4,
  "nbformat_minor": 5
}